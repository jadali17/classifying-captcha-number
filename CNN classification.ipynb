{
 "cells": [
  {
   "cell_type": "code",
   "execution_count": 9,
   "metadata": {},
   "outputs": [],
   "source": [
    "import tensorflow as tf\n",
    "from tensorflow.keras import datasets, layers, models\n",
    "import matplotlib.pyplot as plt\n",
    "import cv2\n",
    "import os\n",
    "from matplotlib import pyplot as plt\n",
    "import numpy as np\n",
    "from keras.utils import to_categorical\n",
    "from keras.models import Sequential\n",
    "from keras.layers import Conv2D\n",
    "from keras.layers import MaxPooling2D\n",
    "from keras.layers import Dense\n",
    "from keras.layers import Flatten\n",
    "from keras.optimizers import SGD"
   ]
  },
  {
   "cell_type": "markdown",
   "metadata": {},
   "source": [
    "# This part tries to use the entire captcha (27 different classes)"
   ]
  },
  {
   "cell_type": "code",
   "execution_count": 2,
   "metadata": {},
   "outputs": [],
   "source": [
    "def getImages():\n",
    "    path = \"imagedata/\"\n",
    "    listOfImages= []\n",
    "    kernel = np.ones((3,3),np.uint8)\n",
    "    for imageFileName in sorted(os.listdir(path)):\n",
    "        img = cv2.imread(path+imageFileName,cv2.IMREAD_UNCHANGED)\n",
    "        eroded = cv2.dilate(img, kernel, iterations = 1)\n",
    "        cropped= eroded[50:140,70:200]\n",
    "        listOfImages.append(np.array(cropped))\n",
    "    listOfImages = np.array(listOfImages)\n",
    "    listOfImages = listOfImages.reshape(list(listOfImages.shape)+[1])\n",
    "    return listOfImages\n",
    "\n",
    "listOfImages = getImages()"
   ]
  },
  {
   "cell_type": "code",
   "execution_count": 3,
   "metadata": {},
   "outputs": [],
   "source": [
    "def getLabels():\n",
    "    listOfLabels = []\n",
    "    with open('labels.txt') as fp:\n",
    "        line = fp.readline()\n",
    "        while line:\n",
    "            listOfLabels.append(np.array(float(line.replace(',', '').replace(\" \", \"\").strip())))\n",
    "            line=fp.readline()\n",
    "    listOfLabels = np.array(listOfLabels)\n",
    "    return listOfLabels\n",
    "\n",
    "listOfLabels = getLabels()"
   ]
  },
  {
   "cell_type": "code",
   "execution_count": 4,
   "metadata": {},
   "outputs": [],
   "source": [
    "def createCategorical(listOfLabels):\n",
    "    uniqueValuesCategories = np.array(list(range(0,27)))\n",
    "    unique = np.unique(listOfLabels)\n",
    "    dict = {}\n",
    "    for key,value in zip(unique,uniqueValuesCategories):\n",
    "        dict[key] = value\n",
    "    newLabels = listOfLabels\n",
    "    newLabels = list(map(dict.get,newLabels))\n",
    "    categories = tf.keras.utils.to_categorical(newLabels)\n",
    "    return categories, dict\n",
    "\n",
    "y,dict = createCategorical(listOfLabels)"
   ]
  },
  {
   "cell_type": "code",
   "execution_count": 5,
   "metadata": {},
   "outputs": [],
   "source": [
    "from sklearn.model_selection import train_test_split\n",
    "X_train, X_test, y_train, y_test = train_test_split(\n",
    "    listOfImages, y, test_size=0.33, random_state=42)\n"
   ]
  },
  {
   "cell_type": "code",
   "execution_count": 20,
   "metadata": {},
   "outputs": [],
   "source": [
    "model = models.Sequential()\n",
    "model.add(layers.Conv2D(32, (3, 3), activation='relu', kernel_initializer='he_uniform', input_shape=(50, 35, 1)))\n",
    "model.add(layers.MaxPooling2D((2, 2)))\n",
    "model.add(layers.Conv2D(64, (3, 3), activation='relu'))\n",
    "model.add(layers.Flatten())\n",
    "model.add(layers.Dense(100, activation='relu',kernel_initializer='he_uniform'))\n",
    "model.add(layers.Dense(3, activation='softmax'))\n"
   ]
  },
  {
   "cell_type": "code",
   "execution_count": 21,
   "metadata": {
    "scrolled": true
   },
   "outputs": [
    {
     "name": "stdout",
     "output_type": "stream",
     "text": [
      "Epoch 1/10\n",
      "27/27 [==============================] - 1s 43ms/step - loss: 1.0951 - accuracy: 0.4954 - val_loss: 0.6987 - val_accuracy: 0.7382\n",
      "Epoch 2/10\n",
      "27/27 [==============================] - 1s 39ms/step - loss: 0.4862 - accuracy: 0.8350 - val_loss: 0.1510 - val_accuracy: 0.9529\n",
      "Epoch 3/10\n",
      "27/27 [==============================] - 1s 39ms/step - loss: 0.0909 - accuracy: 0.9743 - val_loss: 0.0454 - val_accuracy: 0.9848\n",
      "Epoch 4/10\n",
      "27/27 [==============================] - 1s 40ms/step - loss: 0.0196 - accuracy: 0.9959 - val_loss: 0.0191 - val_accuracy: 0.9949\n",
      "Epoch 5/10\n",
      "27/27 [==============================] - 1s 40ms/step - loss: 0.0064 - accuracy: 0.9996 - val_loss: 0.0101 - val_accuracy: 0.9983\n",
      "Epoch 6/10\n",
      "27/27 [==============================] - 1s 39ms/step - loss: 0.0035 - accuracy: 1.0000 - val_loss: 0.0087 - val_accuracy: 0.9983\n",
      "Epoch 7/10\n",
      "27/27 [==============================] - 1s 40ms/step - loss: 0.0024 - accuracy: 1.0000 - val_loss: 0.0071 - val_accuracy: 0.9992\n",
      "Epoch 8/10\n",
      "27/27 [==============================] - 1s 40ms/step - loss: 0.0017 - accuracy: 1.0000 - val_loss: 0.0070 - val_accuracy: 0.9992\n",
      "Epoch 9/10\n",
      "27/27 [==============================] - 1s 41ms/step - loss: 0.0014 - accuracy: 1.0000 - val_loss: 0.0066 - val_accuracy: 0.9992\n",
      "Epoch 10/10\n",
      "27/27 [==============================] - 1s 39ms/step - loss: 0.0012 - accuracy: 1.0000 - val_loss: 0.0060 - val_accuracy: 0.9992\n"
     ]
    }
   ],
   "source": [
    "opt = SGD(lr=0.01, momentum=0.9)\n",
    "model.compile(optimizer=opt, loss='categorical_crossentropy', metrics=['accuracy'])\n",
    "\n",
    "history = model.fit(X_train, y_train\n",
    "                    , batch_size = 90, epochs=10, shuffle = True,\n",
    "                    validation_data=(X_test, y_test))"
   ]
  },
  {
   "cell_type": "code",
   "execution_count": 25,
   "metadata": {
    "scrolled": true
   },
   "outputs": [],
   "source": [
    "a= model.predict_classes(X_test)"
   ]
  },
  {
   "cell_type": "code",
   "execution_count": 27,
   "metadata": {
    "scrolled": true
   },
   "outputs": [
    {
     "name": "stdout",
     "output_type": "stream",
     "text": [
      "[0 1 1 2 0 1 0 1 2 0]\n"
     ]
    }
   ],
   "source": [
    "print(a[:10])"
   ]
  },
  {
   "cell_type": "code",
   "execution_count": 219,
   "metadata": {
    "scrolled": false
   },
   "outputs": [
    {
     "name": "stdout",
     "output_type": "stream",
     "text": [
      "class 0: 28\n",
      "class 1: 25\n",
      "class 2: 24\n",
      "class 3: 34\n",
      "class 4: 32\n",
      "class 5: 30\n",
      "class 6: 39\n",
      "class 7: 34\n",
      "class 8: 29\n",
      "class 9: 26\n",
      "class 10: 31\n",
      "class 11: 28\n",
      "class 12: 26\n",
      "class 13: 38\n",
      "class 14: 25\n",
      "class 15: 23\n",
      "class 16: 47\n",
      "class 17: 33\n",
      "class 18: 21\n",
      "class 19: 25\n",
      "class 20: 28\n",
      "class 21: 27\n",
      "class 22: 25\n",
      "class 23: 28\n",
      "class 24: 34\n",
      "class 25: 26\n",
      "class 26: 38\n"
     ]
    }
   ],
   "source": [
    "newX=[]\n",
    "newY=[]\n",
    "for i in range(27):\n",
    "    count = 0\n",
    "    for j in range(len(X_train)):\n",
    "        \n",
    "        if y_train[j][i]==1:\n",
    "            count += 1\n",
    "    print(\"class {}: {}\".format(i,count))"
   ]
  },
  {
   "cell_type": "markdown",
   "metadata": {},
   "source": [
    "# This part only uses the digits cropped "
   ]
  },
  {
   "cell_type": "code",
   "execution_count": 16,
   "metadata": {},
   "outputs": [],
   "source": [
    "def getImages2():\n",
    "    path = \"imagedata/\"\n",
    "    listOfImages= []\n",
    "    kernel = np.ones((3,3),np.uint8)\n",
    "    for imageFileName in sorted(os.listdir(path)):\n",
    "        img = cv2.imread(path+imageFileName,cv2.IMREAD_UNCHANGED)\n",
    "        eroded = cv2.dilate(img, kernel, iterations = 1)\n",
    "#         thresholded = cv2.THRESH_BINARY\n",
    "        cropped= eroded[50:140,70:200]\n",
    "        first = cropped [30:80,15:50]\n",
    "        second = cropped [30:80,15+30:50+30]\n",
    "        third = cropped [30:80,15+60:50+60]\n",
    "        listOfImages.extend([first,second,third])\n",
    "    listOfImages = np.array(listOfImages)\n",
    "    listOfImages = listOfImages.reshape(listOfImages.shape[0],50,35,1)\n",
    "    listOfimagesNorm = listOfImages.astype('float32')\n",
    "    listOfimagesNorm = listOfimagesNorm  / 255.0\n",
    "    return listOfimagesNorm\n",
    "\n",
    "listOfImages = getImages2()"
   ]
  },
  {
   "cell_type": "code",
   "execution_count": 17,
   "metadata": {},
   "outputs": [],
   "source": [
    "def getLabels2():\n",
    "    listOfLabels = []\n",
    "    with open('labels.txt') as fp:\n",
    "        line = fp.readline()\n",
    "        while line:\n",
    "            parsedLine = line.replace(',', '').replace(\" \", \"\").strip()\n",
    "            listOfLabels.extend([int(i) for i in list(parsedLine)])\n",
    "            line=fp.readline()\n",
    "                    \n",
    "    listOfLabels = np.array(listOfLabels)\n",
    "    return listOfLabels\n",
    "\n",
    "listOfLabels = getLabels2()"
   ]
  },
  {
   "cell_type": "code",
   "execution_count": 18,
   "metadata": {},
   "outputs": [],
   "source": [
    "categories = tf.keras.utils.to_categorical(listOfLabels)"
   ]
  },
  {
   "cell_type": "code",
   "execution_count": 19,
   "metadata": {},
   "outputs": [],
   "source": [
    "from sklearn.model_selection import train_test_split\n",
    "X_train, X_test, y_train, y_test = train_test_split(\n",
    "    listOfImages, categories, test_size=0.33, random_state=42)\n"
   ]
  },
  {
   "cell_type": "code",
   "execution_count": 38,
   "metadata": {},
   "outputs": [],
   "source": [
    "\n",
    "def define_model():\n",
    "    model = Sequential()\n",
    "    model.add(Conv2D(32, (3, 3), activation='relu', kernel_initializer='he_uniform', input_shape=(50, 35, 1)))\n",
    "    model.add(MaxPooling2D((2, 2)))\n",
    "    model.add(Flatten())\n",
    "    model.add(Dense(100, activation='relu', kernel_initializer='he_uniform'))\n",
    "    model.add(Dense(3, activation='softmax'))\n",
    "    # compile model\n",
    "    opt = SGD(lr=0.01, momentum=0.9)\n",
    "    model.compile(optimizer=opt, loss='categorical_crossentropy', metrics=['accuracy'])\n",
    "    return model\n",
    "\n",
    "model2 = define_model()"
   ]
  },
  {
   "cell_type": "code",
   "execution_count": 39,
   "metadata": {},
   "outputs": [
    {
     "name": "stdout",
     "output_type": "stream",
     "text": [
      "Epoch 1/10\n",
      "76/76 [==============================] - 1s 11ms/step - loss: 1.1402 - accuracy: 0.4299 - val_loss: 1.0856 - val_accuracy: 0.3190\n",
      "Epoch 2/10\n",
      "76/76 [==============================] - 1s 10ms/step - loss: 1.0060 - accuracy: 0.4486 - val_loss: 0.8263 - val_accuracy: 0.5648\n",
      "Epoch 3/10\n",
      "76/76 [==============================] - 1s 9ms/step - loss: 0.5076 - accuracy: 0.7865 - val_loss: 0.2090 - val_accuracy: 0.9630\n",
      "Epoch 4/10\n",
      "76/76 [==============================] - 1s 9ms/step - loss: 0.0739 - accuracy: 0.9813 - val_loss: 0.0397 - val_accuracy: 0.9941\n",
      "Epoch 5/10\n",
      "76/76 [==============================] - 1s 10ms/step - loss: 0.0106 - accuracy: 0.9992 - val_loss: 0.0237 - val_accuracy: 0.9975\n",
      "Epoch 6/10\n",
      "76/76 [==============================] - 1s 10ms/step - loss: 0.0039 - accuracy: 1.0000 - val_loss: 0.0181 - val_accuracy: 0.9966\n",
      "Epoch 7/10\n",
      "76/76 [==============================] - 1s 10ms/step - loss: 0.0023 - accuracy: 1.0000 - val_loss: 0.0175 - val_accuracy: 0.9975\n",
      "Epoch 8/10\n",
      "76/76 [==============================] - 1s 9ms/step - loss: 0.0018 - accuracy: 1.0000 - val_loss: 0.0165 - val_accuracy: 0.9975\n",
      "Epoch 9/10\n",
      "76/76 [==============================] - 1s 10ms/step - loss: 0.0014 - accuracy: 1.0000 - val_loss: 0.0158 - val_accuracy: 0.9975\n",
      "Epoch 10/10\n",
      "76/76 [==============================] - 1s 10ms/step - loss: 0.0011 - accuracy: 1.0000 - val_loss: 0.0161 - val_accuracy: 0.9975\n"
     ]
    }
   ],
   "source": [
    "history = model2.fit(X_train, y_train, epochs=10, batch_size=32, validation_data=(X_test, y_test), verbose=1)"
   ]
  },
  {
   "cell_type": "code",
   "execution_count": 42,
   "metadata": {},
   "outputs": [
    {
     "data": {
      "text/plain": [
       "array([0, 1, 1, ..., 0, 1, 2])"
      ]
     },
     "execution_count": 42,
     "metadata": {},
     "output_type": "execute_result"
    }
   ],
   "source": [
    "model2.predict_classes(X_test)"
   ]
  },
  {
   "cell_type": "code",
   "execution_count": null,
   "metadata": {},
   "outputs": [],
   "source": []
  }
 ],
 "metadata": {
  "kernelspec": {
   "display_name": "Python 3",
   "language": "python",
   "name": "python3"
  },
  "language_info": {
   "codemirror_mode": {
    "name": "ipython",
    "version": 3
   },
   "file_extension": ".py",
   "mimetype": "text/x-python",
   "name": "python",
   "nbconvert_exporter": "python",
   "pygments_lexer": "ipython3",
   "version": "3.8.5"
  }
 },
 "nbformat": 4,
 "nbformat_minor": 4
}