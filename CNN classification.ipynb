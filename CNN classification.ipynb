{
 "cells": [
  {
   "cell_type": "code",
   "execution_count": 1,
   "metadata": {},
   "outputs": [],
   "source": [
    "import tensorflow as tf\n",
    "from tensorflow.keras import datasets, layers, models\n",
    "import matplotlib.pyplot as plt\n",
    "import cv2\n",
    "import os\n",
    "from matplotlib import pyplot as plt\n",
    "import numpy as np\n",
    "from keras.utils import to_categorical\n",
    "from keras.models import Sequential\n",
    "from keras.layers import Conv2D\n",
    "from keras.layers import MaxPooling2D\n",
    "from keras.layers import Dense\n",
    "from keras.layers import Flatten\n",
    "from keras.optimizers import SGD"
   ]
  },
  {
   "cell_type": "markdown",
   "metadata": {},
   "source": [
    "# This part tries to use the entire captcha (27 different classes)"
   ]
  },
  {
   "cell_type": "code",
   "execution_count": 45,
   "metadata": {},
   "outputs": [],
   "source": [
    "def getImages():\n",
    "    path = \"imagedata/\"\n",
    "    listOfImages= []\n",
    "    kernel = np.ones((3,3),np.uint8)\n",
    "    for imageFileName in sorted(os.listdir(path)):\n",
    "        img = cv2.imread(path+imageFileName,cv2.IMREAD_UNCHANGED)\n",
    "        eroded = cv2.dilate(img, kernel, iterations = 1)\n",
    "        cropped= eroded[50:140,70:200]\n",
    "        listOfImages.append(np.array(cropped))\n",
    "    listOfImages = np.array(listOfImages)\n",
    "    listOfImages = listOfImages.reshape(list(listOfImages.shape)+[1])\n",
    "    return listOfImages\n",
    "\n",
    "listOfImages = getImages()"
   ]
  },
  {
   "cell_type": "code",
   "execution_count": 46,
   "metadata": {},
   "outputs": [
    {
     "data": {
      "text/plain": [
       "<matplotlib.image.AxesImage at 0x7f97b074f7c0>"
      ]
     },
     "execution_count": 46,
     "metadata": {},
     "output_type": "execute_result"
    },
    {
     "data": {
      "image/png": "[encoded data removed]",
      "text/plain": [
       "<Figure size 432x288 with 1 Axes>"
      ]
     },
     "metadata": {
      "needs_background": "light"
     },
     "output_type": "display_data"
    }
   ],
   "source": [
    "plt.imshow(listOfImages[0])"
   ]
  },
  {
   "cell_type": "code",
   "execution_count": 3,
   "metadata": {},
   "outputs": [],
   "source": [
    "def getLabels():\n",
    "    listOfLabels = []\n",
    "    with open('labels.txt') as fp:\n",
    "        line = fp.readline()\n",
    "        while line:\n",
    "            listOfLabels.append(np.array(float(line.replace(',', '').replace(\" \", \"\").strip())))\n",
    "            line=fp.readline()\n",
    "    listOfLabels = np.array(listOfLabels)\n",
    "    return listOfLabels\n",
    "\n",
    "listOfLabels = getLabels()"
   ]
  },
  {
   "cell_type": "code",
   "execution_count": 4,
   "metadata": {},
   "outputs": [],
   "source": [
    "def createCategorical(listOfLabels):\n",
    "    uniqueValuesCategories = np.array(list(range(0,27)))\n",
    "    unique = np.unique(listOfLabels)\n",
    "    dict = {}\n",
    "    for key,value in zip(unique,uniqueValuesCategories):\n",
    "        dict[key] = value\n",
    "    newLabels = listOfLabels\n",
    "    newLabels = list(map(dict.get,newLabels))\n",
    "    categories = tf.keras.utils.to_categorical(newLabels)\n",
    "    return categories, dict\n",
    "\n",
    "y,dict = createCategorical(listOfLabels)"
   ]
  },
  {
   "cell_type": "code",
   "execution_count": 5,
   "metadata": {},
   "outputs": [],
   "source": [
    "from sklearn.model_selection import train_test_split\n",
    "X_train, X_test, y_train, y_test = train_test_split(\n",
    "    listOfImages, y, test_size=0.33, random_state=42)\n"
   ]
  },
  {
   "cell_type": "code",
   "execution_count": 20,
   "metadata": {},
   "outputs": [],
   "source": [
    "model = models.Sequential()\n",
    "model.add(layers.Conv2D(32, (3, 3), activation='relu', kernel_initializer='he_uniform', input_shape=(50, 35, 1)))\n",
    "model.add(layers.MaxPooling2D((2, 2)))\n",
    "model.add(layers.Conv2D(64, (3, 3), activation='relu'))\n",
    "model.add(layers.Flatten())\n",
    "model.add(layers.Dense(100, activation='relu',kernel_initializer='he_uniform'))\n",
    "model.add(layers.Dense(3, activation='softmax'))\n"
   ]
  },
  {
   "cell_type": "code",
   "execution_count": 21,
   "metadata": {
    "scrolled": true
   },
   "outputs": [
    {
     "name": "stdout",
     "output_type": "stream",
     "text": [
      "Epoch 1/10\n",
      "27/27 [==============================] - 1s 43ms/step - loss: 1.0951 - accuracy: 0.4954 - val_loss: 0.6987 - val_accuracy: 0.7382\n",
      "Epoch 2/10\n",
      "27/27 [==============================] - 1s 39ms/step - loss: 0.4862 - accuracy: 0.8350 - val_loss: 0.1510 - val_accuracy: 0.9529\n",
      "Epoch 3/10\n",
      "27/27 [==============================] - 1s 39ms/step - loss: 0.0909 - accuracy: 0.9743 - val_loss: 0.0454 - val_accuracy: 0.9848\n",
      "Epoch 4/10\n",
      "27/27 [==============================] - 1s 40ms/step - loss: 0.0196 - accuracy: 0.9959 - val_loss: 0.0191 - val_accuracy: 0.9949\n",
      "Epoch 5/10\n",
      "27/27 [==============================] - 1s 40ms/step - loss: 0.0064 - accuracy: 0.9996 - val_loss: 0.0101 - val_accuracy: 0.9983\n",
      "Epoch 6/10\n",
      "27/27 [==============================] - 1s 39ms/step - loss: 0.0035 - accuracy: 1.0000 - val_loss: 0.0087 - val_accuracy: 0.9983\n",
      "Epoch 7/10\n",
      "27/27 [==============================] - 1s 40ms/step - loss: 0.0024 - accuracy: 1.0000 - val_loss: 0.0071 - val_accuracy: 0.9992\n",
      "Epoch 8/10\n",
      "27/27 [==============================] - 1s 40ms/step - loss: 0.0017 - accuracy: 1.0000 - val_loss: 0.0070 - val_accuracy: 0.9992\n",
      "Epoch 9/10\n",
      "27/27 [==============================] - 1s 41ms/step - loss: 0.0014 - accuracy: 1.0000 - val_loss: 0.0066 - val_accuracy: 0.9992\n",
      "Epoch 10/10\n",
      "27/27 [==============================] - 1s 39ms/step - loss: 0.0012 - accuracy: 1.0000 - val_loss: 0.0060 - val_accuracy: 0.9992\n"
     ]
    }
   ],
   "source": [
    "opt = SGD(lr=0.01, momentum=0.9)\n",
    "model.compile(optimizer=opt, loss='categorical_crossentropy', metrics=['accuracy'])\n",
    "\n",
    "history = model.fit(X_train, y_train\n",
    "                    , batch_size = 90, epochs=10, shuffle = True,\n",
    "                    validation_data=(X_test, y_test))"
   ]
  },
  {
   "cell_type": "code",
   "execution_count": 25,
   "metadata": {
    "scrolled": true
   },
   "outputs": [],
   "source": [
    "a= model.predict_classes(X_test)"
   ]
  },
  {
   "cell_type": "code",
   "execution_count": 27,
   "metadata": {
    "scrolled": true
   },
   "outputs": [
    {
     "name": "stdout",
     "output_type": "stream",
     "text": [
      "[0 1 1 2 0 1 0 1 2 0]\n"
     ]
    }
   ],
   "source": [
    "print(a[:10])"
   ]
  },
  {
   "cell_type": "code",
   "execution_count": 219,
   "metadata": {
    "scrolled": false
   },
   "outputs": [
    {
     "name": "stdout",
     "output_type": "stream",
     "text": [
      "class 0: 28\n",
      "class 1: 25\n",
      "class 2: 24\n",
      "class 3: 34\n",
      "class 4: 32\n",
      "class 5: 30\n",
      "class 6: 39\n",
      "class 7: 34\n",
      "class 8: 29\n",
      "class 9: 26\n",
      "class 10: 31\n",
      "class 11: 28\n",
      "class 12: 26\n",
      "class 13: 38\n",
      "class 14: 25\n",
      "class 15: 23\n",
      "class 16: 47\n",
      "class 17: 33\n",
      "class 18: 21\n",
      "class 19: 25\n",
      "class 20: 28\n",
      "class 21: 27\n",
      "class 22: 25\n",
      "class 23: 28\n",
      "class 24: 34\n",
      "class 25: 26\n",
      "class 26: 38\n"
     ]
    }
   ],
   "source": [
    "newX=[]\n",
    "newY=[]\n",
    "for i in range(27):\n",
    "    count = 0\n",
    "    for j in range(len(X_train)):\n",
    "        \n",
    "        if y_train[j][i]==1:\n",
    "            count += 1\n",
    "    print(\"class {}: {}\".format(i,count))"
   ]
  },
  {
   "cell_type": "markdown",
   "metadata": {},
   "source": [
    "# This part only uses the digits cropped "
   ]
  },
  {
   "cell_type": "code",
   "execution_count": 105,
   "metadata": {},
   "outputs": [],
   "source": [
    "def getImages2(pathToDirectory):\n",
    "    listOfImages= []\n",
    "    kernel = np.ones((3,3),np.uint8)\n",
    "    for imageFileName in sorted(os.listdir(path)):\n",
    "        img = cv2.imread(pathToDirectory+imageFileName,cv2.IMREAD_UNCHANGED)\n",
    "        eroded = cv2.dilate(img, kernel, iterations = 1)\n",
    "#         thresholded = cv2.THRESH_BINARY\n",
    "        cropped= eroded[50:140,70:200]\n",
    "        first = cropped [30:80,15:50]\n",
    "        second = cropped [30:80,15+30:50+30]\n",
    "        third = cropped [30:80,15+60:50+60]\n",
    "        listOfImages.extend([first,second,third])\n",
    "    listOfImages = np.array(listOfImages)\n",
    "    listOfImages = listOfImages.reshape(listOfImages.shape[0],50,35,1)\n",
    "    listOfimagesNorm = listOfImages.astype('float32')\n",
    "    listOfimagesNorm = listOfimagesNorm  / 255.0\n",
    "    return listOfimagesNorm\n",
    "\n",
    "listOfImages = getImages2(\"imagedata/\")"
   ]
  },
  {
   "cell_type": "code",
   "execution_count": 104,
   "metadata": {},
   "outputs": [],
   "source": [
    "def getLabels2(path):\n",
    "    listOfLabels = []\n",
    "    with open(path) as fp:\n",
    "        line = fp.readline()\n",
    "        while line:\n",
    "            parsedLine = line.replace(',', '').replace(\" \", \"\").strip()\n",
    "            listOfLabels.extend([int(i) for i in list(parsedLine)])\n",
    "            line=fp.readline()\n",
    "                    \n",
    "    listOfLabels = np.array(listOfLabels)\n",
    "    return listOfLabels\n",
    "\n",
    "listOfLabels = getLabels2('labels.txt')"
   ]
  },
  {
   "cell_type": "code",
   "execution_count": 16,
   "metadata": {},
   "outputs": [],
   "source": [
    "categories = tf.keras.utils.to_categorical(listOfLabels)"
   ]
  },
  {
   "cell_type": "code",
   "execution_count": 21,
   "metadata": {},
   "outputs": [],
   "source": [
    "from sklearn.model_selection import train_test_split\n",
    "X_train, X_test, y_train, y_test = train_test_split(\n",
    "    listOfImages, categories, test_size=0.33, random_state=42)\n"
   ]
  },
  {
   "cell_type": "code",
   "execution_count": 25,
   "metadata": {},
   "outputs": [],
   "source": [
    "def define_model():\n",
    "    model = Sequential()\n",
    "    model.add(Conv2D(32, (3, 3), activation='relu', kernel_initializer='he_uniform', input_shape=(50, 35, 1)))\n",
    "    model.add(MaxPooling2D((2, 2)))\n",
    "    model.add(Flatten())\n",
    "    model.add(Dense(100, activation='relu', kernel_initializer='he_uniform'))\n",
    "    model.add(Dense(3, activation='softmax'))\n",
    "    # compile model\n",
    "    opt = SGD(lr=0.01, momentum=0.9)\n",
    "    model.compile(optimizer=opt, loss='categorical_crossentropy', metrics=['accuracy'])\n",
    "    return model\n",
    "\n",
    "model2 = define_model()"
   ]
  },
  {
   "cell_type": "code",
   "execution_count": 26,
   "metadata": {
    "scrolled": true
   },
   "outputs": [
    {
     "name": "stdout",
     "output_type": "stream",
     "text": [
      "Epoch 1/10\n",
      "76/76 [==============================] - 1s 15ms/step - loss: 0.9154 - accuracy: 0.6907 - val_loss: 0.1511 - val_accuracy: 0.9722\n",
      "Epoch 2/10\n",
      "76/76 [==============================] - 1s 13ms/step - loss: 0.0750 - accuracy: 0.9871 - val_loss: 0.0472 - val_accuracy: 0.9882\n",
      "Epoch 3/10\n",
      "76/76 [==============================] - 1s 13ms/step - loss: 0.0143 - accuracy: 0.9992 - val_loss: 0.0162 - val_accuracy: 0.9966\n",
      "Epoch 4/10\n",
      "76/76 [==============================] - 1s 13ms/step - loss: 0.0053 - accuracy: 1.0000 - val_loss: 0.0125 - val_accuracy: 0.9975\n",
      "Epoch 5/10\n",
      "76/76 [==============================] - 1s 13ms/step - loss: 0.0032 - accuracy: 1.0000 - val_loss: 0.0110 - val_accuracy: 0.9975\n",
      "Epoch 6/10\n",
      "76/76 [==============================] - 1s 13ms/step - loss: 0.0022 - accuracy: 1.0000 - val_loss: 0.0106 - val_accuracy: 0.9975\n",
      "Epoch 7/10\n",
      "76/76 [==============================] - 1s 13ms/step - loss: 0.0017 - accuracy: 1.0000 - val_loss: 0.0105 - val_accuracy: 0.9975\n",
      "Epoch 8/10\n",
      "76/76 [==============================] - 1s 12ms/step - loss: 0.0015 - accuracy: 1.0000 - val_loss: 0.0096 - val_accuracy: 0.9983\n",
      "Epoch 9/10\n",
      "76/76 [==============================] - 1s 12ms/step - loss: 0.0012 - accuracy: 1.0000 - val_loss: 0.0093 - val_accuracy: 0.9983\n",
      "Epoch 10/10\n",
      "76/76 [==============================] - 1s 12ms/step - loss: 0.0010 - accuracy: 1.0000 - val_loss: 0.0093 - val_accuracy: 0.9983\n"
     ]
    }
   ],
   "source": [
    "history = model2.fit(X_train, y_train, epochs=10, batch_size=32, validation_data=(X_test, y_test), verbose=1)"
   ]
  },
  {
   "cell_type": "code",
   "execution_count": null,
   "metadata": {},
   "outputs": [],
   "source": [
    "predictions = model2.predict_classes(X_test)"
   ]
  },
  {
   "cell_type": "code",
   "execution_count": 109,
   "metadata": {},
   "outputs": [
    {
     "name": "stdout",
     "output_type": "stream",
     "text": [
      "The accuracy is: 0.9994444444444445\n"
     ]
    }
   ],
   "source": [
    "from sklearn.metrics import accuracy_score\n",
    "\n",
    "def score(labelsTxtFile,imagesDir,model): # score( takes the labels.txt, takes directory of the images, the model to predict with)\n",
    "    labels = getLabels2(labelsTxtFile)\n",
    "    images = getImages2(imagesDir)\n",
    "    preds = model.predict_classes(images)\n",
    "    print(f\"The accuracy is: {accuracy_score(labels, preds)}\")\n",
    "    \n",
    "    \n",
    "score(\"labels.txt\",\"imagedata/\",model2)\n",
    "    \n"
   ]
  },
  {
   "cell_type": "code",
   "execution_count": 102,
   "metadata": {},
   "outputs": [],
   "source": [
    "#Predict one image\n",
    "def predict(pathToImage,model):\n",
    "    listOfImages=[] \n",
    "    img = cv2.imread(pathToImage,cv2.IMREAD_UNCHANGED)\n",
    "    \n",
    "    kernel = np.ones((3,3),np.uint8)\n",
    "    dilated = cv2.dilate(img, kernel, iterations = 1) #Dilating the image\n",
    "    \n",
    "    #-------Crop the image into three parts----------#\n",
    "    cropped= dilated[50:140,70:200]\n",
    "    first = cropped [30:80,15:50]\n",
    "    second = cropped [30:80,15+30:50+30]\n",
    "    third = cropped [30:80,15+60:50+60] \n",
    "    \n",
    "    \n",
    "    listOfImages.extend([first,second,third])\n",
    "    \n",
    "    \n",
    "    listOfImages = np.array(listOfImages)\n",
    "    listOfImages = listOfImages.reshape(listOfImages.shape[0],50,35,1) # Reshape to add last dimension for cnn\n",
    "    listOfimagesNorm = listOfImages.astype('float32')\n",
    "    listOfimagesNorm = listOfimagesNorm  / 255.0\n",
    "    \n",
    "    prediction = model.predict_classes(listOfImages) # Running the model to predict the three numbers\n",
    "    print(f\"The captcha contains {prediction[0]}{prediction[1]}{prediction[2]}\")\n",
    "    return()"
   ]
  },
  {
   "cell_type": "code",
   "execution_count": 103,
   "metadata": {
    "scrolled": true
   },
   "outputs": [
    {
     "name": "stdout",
     "output_type": "stream",
     "text": [
      "The captcha is 122\n"
     ]
    }
   ],
   "source": [
    "predict(path+os.listdir(\"imagedata\")[0],model2)"
   ]
  },
  {
   "cell_type": "code",
   "execution_count": null,
   "metadata": {},
   "outputs": [],
   "source": []
  }
 ],
 "metadata": {
  "kernelspec": {
   "display_name": "Python 3",
   "language": "python",
   "name": "python3"
  },
  "language_info": {
   "codemirror_mode": {
    "name": "ipython",
    "version": 3
   },
   "file_extension": ".py",
   "mimetype": "text/x-python",
   "name": "python",
   "nbconvert_exporter": "python",
   "pygments_lexer": "ipython3",
   "version": "3.8.5"
  }
 },
 "nbformat": 4,
 "nbformat_minor": 4
}
